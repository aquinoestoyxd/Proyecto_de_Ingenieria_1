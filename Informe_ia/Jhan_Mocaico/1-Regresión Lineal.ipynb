{
 "cells": [
  {
   "cell_type": "markdown",
   "metadata": {
    "id": "Rt_YVwqu8dOj"
   },
   "source": [
    "# Regresión lineal del precio de la vivienda en EE. UU."
   ]
  },
  {
   "cell_type": "markdown",
   "metadata": {
    "id": "Tx-nqi6G8dOl"
   },
   "source": [
    "## Primer de regresión lineal\n",
    "\n",
    "En estadística, la regresión lineal es un enfoque lineal para modelar la relación entre una variable dependiente escalar y y una o más variables explicativas (o variables independientes) denominadas X. El caso de una variable explicativa se denomina regresión lineal simple. Para más de una variable explicativa, el proceso se denomina regresión lineal múltiple.\n",
    "\n",
    "Los modelos de regresión lineal a menudo se ajustan utilizando el enfoque de mínimos cuadrados, pero también pueden ajustarse de otras formas, como minimizando la \"falta de ajuste\" en alguna otra norma (como con la regresión de desviaciones mínimas absolutas), o minimizando una penalización. versión de la función de pérdida por mínimos cuadrados como en la regresión de crestas (penalización de $L_2$ -norm) y lazo (penalización de $L_1$ -norm). Por el contrario, el enfoque de mínimos cuadrados se puede utilizar para ajustar modelos que no son modelos lineales. Por lo tanto, aunque los términos \"mínimos cuadrados\" y \"modelo lineal\" están estrechamente relacionados, no son sinónimos."
   ]
  },
  {
   "cell_type": "markdown",
   "metadata": {
    "id": "J3tE2JQq8dOm"
   },
   "source": [
    "### Importando paquetes y el conjunto de datos"
   ]
  },
  {
   "cell_type": "code",
   "execution_count": null,
   "metadata": {
    "executionInfo": {
     "elapsed": 3827,
     "status": "ok",
     "timestamp": 1724353231968,
     "user": {
      "displayName": "Umbert Lewis De La Cruz Rodriguez",
      "userId": "06308596113481217675"
     },
     "user_tz": 300
    },
    "id": "QXAPBx8c8dOn"
   },
   "outputs": [],
   "source": [
    "import numpy as np\n",
    "import pandas as pd\n",
    "import matplotlib.pyplot as plt\n",
    "import seaborn as sns\n",
    "%matplotlib inline\n"
   ]
  },
  {
   "cell_type": "code",
   "execution_count": null,
   "metadata": {
    "colab": {
     "base_uri": "https://localhost:8080/",
     "height": 276
    },
    "executionInfo": {
     "elapsed": 952,
     "status": "ok",
     "timestamp": 1724353767561,
     "user": {
      "displayName": "Umbert Lewis De La Cruz Rodriguez",
      "userId": "06308596113481217675"
     },
     "user_tz": 300
    },
    "id": "yXLiX0_C8dOv",
    "outputId": "d5133fc3-1367-4b02-daab-2922de450e4d"
   },
   "outputs": [],
   "source": [
    "df = pd.read_csv(\"https://github.com/ulewis/Ejemplos/raw/main/Datos/USA_Housing.csv\")\n",
    "# df = pd.read_csv(\"https://github.com/ulewis/Ejemplos/raw/main/Datos/healthcare_dataset.csv\")\n",
    "\n",
    "df.head()  # vemos los 5 primeros datos del dataframe"
   ]
  },
  {
   "cell_type": "markdown",
   "metadata": {
    "id": "g7nJY0388dPB"
   },
   "source": [
    "### Consultar información básica sobre el conjunto de datos"
   ]
  },
  {
   "cell_type": "markdown",
   "metadata": {
    "id": "ETHccxdK8dPF"
   },
   "source": [
    "**El método 'info()'los tipos y números de datos**"
   ]
  },
  {
   "cell_type": "code",
   "execution_count": null,
   "metadata": {
    "colab": {
     "base_uri": "https://localhost:8080/"
    },
    "executionInfo": {
     "elapsed": 348,
     "status": "ok",
     "timestamp": 1724353840291,
     "user": {
      "displayName": "Umbert Lewis De La Cruz Rodriguez",
      "userId": "06308596113481217675"
     },
     "user_tz": 300
    },
    "id": "Lqu_Rt4r8dPG",
    "outputId": "198c2f97-6bfa-4fe2-8532-1db06aa808cf"
   },
   "outputs": [],
   "source": [
    "df.info(verbose=True)"
   ]
  },
  {
   "cell_type": "markdown",
   "metadata": {
    "id": "ee4RsTEy8dPN"
   },
   "source": [
    "**El método 'describe()' obtiene un resumen de estadísticas de las características del conjunto de datos**"
   ]
  },
  {
   "cell_type": "code",
   "execution_count": null,
   "metadata": {
    "colab": {
     "base_uri": "https://localhost:8080/",
     "height": 300
    },
    "executionInfo": {
     "elapsed": 345,
     "status": "ok",
     "timestamp": 1724353894458,
     "user": {
      "displayName": "Umbert Lewis De La Cruz Rodriguez",
      "userId": "06308596113481217675"
     },
     "user_tz": 300
    },
    "id": "tjPhTANd8dPO",
    "outputId": "77a6bdd2-ab1c-41fd-c5c7-a977b662fd15"
   },
   "outputs": [],
   "source": [
    "df.describe()\n"
   ]
  },
  {
   "cell_type": "markdown",
   "metadata": {
    "id": "4Ryw8cLr8dPX"
   },
   "source": [
    "**El método 'columns' obtiene los nombres de las columnas (características)**"
   ]
  },
  {
   "cell_type": "code",
   "execution_count": null,
   "metadata": {
    "colab": {
     "base_uri": "https://localhost:8080/"
    },
    "executionInfo": {
     "elapsed": 325,
     "status": "ok",
     "timestamp": 1724353906011,
     "user": {
      "displayName": "Umbert Lewis De La Cruz Rodriguez",
      "userId": "06308596113481217675"
     },
     "user_tz": 300
    },
    "id": "BehoS7tx8dPY",
    "outputId": "304914bf-4255-4126-f80d-ef23193eb516"
   },
   "outputs": [],
   "source": [
    "df.columns\n"
   ]
  },
  {
   "cell_type": "markdown",
   "metadata": {
    "id": "MRq8LMCh8dPh"
   },
   "source": [
    "### Visualización básica del conjunto de datos"
   ]
  },
  {
   "cell_type": "markdown",
   "metadata": {
    "id": "RdE4hWG88dPi"
   },
   "source": [
    "**Pairplots usando seaborn**"
   ]
  },
  {
   "cell_type": "code",
   "execution_count": null,
   "metadata": {
    "colab": {
     "base_uri": "https://localhost:8080/",
     "height": 1000
    },
    "executionInfo": {
     "elapsed": 16057,
     "status": "ok",
     "timestamp": 1724353956947,
     "user": {
      "displayName": "Umbert Lewis De La Cruz Rodriguez",
      "userId": "06308596113481217675"
     },
     "user_tz": 300
    },
    "id": "OdK8KrAr8dPl",
    "outputId": "fec901b4-db41-43d3-e889-2b1c23eb1632"
   },
   "outputs": [],
   "source": [
    "sns.pairplot(df)"
   ]
  },
  {
   "cell_type": "markdown",
   "metadata": {
    "id": "e2v_p_418dPq"
   },
   "source": [
    "**Distribución del precio (la cantidad prevista)**"
   ]
  },
  {
   "cell_type": "code",
   "execution_count": null,
   "metadata": {
    "colab": {
     "base_uri": "https://localhost:8080/",
     "height": 403
    },
    "executionInfo": {
     "elapsed": 417,
     "status": "ok",
     "timestamp": 1724353976385,
     "user": {
      "displayName": "Umbert Lewis De La Cruz Rodriguez",
      "userId": "06308596113481217675"
     },
     "user_tz": 300
    },
    "id": "jftEm0gm8dPs",
    "outputId": "af6f047c-19bf-4d44-d9b3-5a51a2d69cf8"
   },
   "outputs": [],
   "source": [
    "df['Price'].plot.hist(bins=25,figsize=(8,4))"
   ]
  },
  {
   "cell_type": "code",
   "execution_count": null,
   "metadata": {
    "colab": {
     "base_uri": "https://localhost:8080/",
     "height": 480
    },
    "executionInfo": {
     "elapsed": 1437,
     "status": "ok",
     "timestamp": 1724353984616,
     "user": {
      "displayName": "Umbert Lewis De La Cruz Rodriguez",
      "userId": "06308596113481217675"
     },
     "user_tz": 300
    },
    "id": "Je3ohLn38dPx",
    "outputId": "373b77b9-2465-41c2-83c0-2112cece14b8"
   },
   "outputs": [],
   "source": [
    "df['Price'].plot.density()"
   ]
  },
  {
   "cell_type": "markdown",
   "metadata": {
    "id": "p5_pB-ZD8dP3"
   },
   "source": [
    "**Matriz de correlación y heatmap**"
   ]
  },
  {
   "cell_type": "code",
   "execution_count": null,
   "metadata": {
    "colab": {
     "base_uri": "https://localhost:8080/",
     "height": 238
    },
    "executionInfo": {
     "elapsed": 332,
     "status": "ok",
     "timestamp": 1724354004461,
     "user": {
      "displayName": "Umbert Lewis De La Cruz Rodriguez",
      "userId": "06308596113481217675"
     },
     "user_tz": 300
    },
    "id": "NcMtZ9aH8dP4",
    "outputId": "f30b745d-f813-4d1d-81b5-18156c2762f1",
    "scrolled": false
   },
   "outputs": [],
   "source": [
    "numeric_df = df.select_dtypes(include=[np.number])\n",
    "numeric_df.corr()"
   ]
  },
  {
   "cell_type": "code",
   "execution_count": null,
   "metadata": {
    "colab": {
     "base_uri": "https://localhost:8080/",
     "height": 827
    },
    "executionInfo": {
     "elapsed": 832,
     "status": "ok",
     "timestamp": 1724354012943,
     "user": {
      "displayName": "Umbert Lewis De La Cruz Rodriguez",
      "userId": "06308596113481217675"
     },
     "user_tz": 300
    },
    "id": "GQ4v3FI78dQA",
    "outputId": "44c67b96-3d9c-462e-e197-f9f544910035"
   },
   "outputs": [],
   "source": [
    "plt.figure(figsize=(10,7))\n",
    "sns.heatmap(numeric_df.corr(),annot=True,linewidths=2)"
   ]
  },
  {
   "cell_type": "markdown",
   "metadata": {
    "id": "0rzLtSoA8dQG"
   },
   "source": [
    "### Conjuntos de características y variables"
   ]
  },
  {
   "cell_type": "markdown",
   "metadata": {
    "id": "6OXUciqL8dQG"
   },
   "source": [
    "**Haga una lista de los nombres de las columnas del dataframe**"
   ]
  },
  {
   "cell_type": "code",
   "execution_count": null,
   "metadata": {
    "colab": {
     "base_uri": "https://localhost:8080/"
    },
    "executionInfo": {
     "elapsed": 323,
     "status": "ok",
     "timestamp": 1724354311307,
     "user": {
      "displayName": "Umbert Lewis De La Cruz Rodriguez",
      "userId": "06308596113481217675"
     },
     "user_tz": 300
    },
    "id": "jsGzdrz88dQI",
    "outputId": "8263a688-673d-498c-ba67-e59ad5e7494d"
   },
   "outputs": [],
   "source": [
    "l_column = list(df.columns) # Haciendo una lista de las columnas\n",
    "len_feature = len(l_column) # Longitud de la lista de vectores de columna\n",
    "l_column"
   ]
  },
  {
   "cell_type": "markdown",
   "metadata": {
    "id": "bseTYoJT8dQN"
   },
   "source": [
    "**Coloque todas las características numéricas en X y el precio en y, ignore la dirección, que es una cadena para la regresión lineal**"
   ]
  },
  {
   "cell_type": "code",
   "execution_count": null,
   "metadata": {
    "executionInfo": {
     "elapsed": 360,
     "status": "ok",
     "timestamp": 1724354314967,
     "user": {
      "displayName": "Umbert Lewis De La Cruz Rodriguez",
      "userId": "06308596113481217675"
     },
     "user_tz": 300
    },
    "id": "Wh_PPOu28dQO"
   },
   "outputs": [],
   "source": [
    "X = df[l_column[0:len_feature-2]]\n",
    "y = df[l_column[len_feature-2]]"
   ]
  },
  {
   "cell_type": "code",
   "execution_count": null,
   "metadata": {
    "colab": {
     "base_uri": "https://localhost:8080/"
    },
    "executionInfo": {
     "elapsed": 408,
     "status": "ok",
     "timestamp": 1724354321360,
     "user": {
      "displayName": "Umbert Lewis De La Cruz Rodriguez",
      "userId": "06308596113481217675"
     },
     "user_tz": 300
    },
    "id": "UGxA4yqB8dQU",
    "outputId": "ec14aa49-fd0a-4b21-8941-f4a3b5c0a44e"
   },
   "outputs": [],
   "source": [
    "print(\"Tamaño de Características:\",X.shape)\n",
    "print(\"Tamaño de Variable Objetivo:\",y.shape)"
   ]
  },
  {
   "cell_type": "code",
   "execution_count": null,
   "metadata": {
    "colab": {
     "base_uri": "https://localhost:8080/",
     "height": 206
    },
    "executionInfo": {
     "elapsed": 382,
     "status": "ok",
     "timestamp": 1724354329212,
     "user": {
      "displayName": "Umbert Lewis De La Cruz Rodriguez",
      "userId": "06308596113481217675"
     },
     "user_tz": 300
    },
    "id": "Dn6S2Gna8dQY",
    "outputId": "0b3b3675-2a4b-4bab-e9a8-a4b47165e78c"
   },
   "outputs": [],
   "source": [
    "X.head()"
   ]
  },
  {
   "cell_type": "code",
   "execution_count": null,
   "metadata": {
    "colab": {
     "base_uri": "https://localhost:8080/",
     "height": 241
    },
    "executionInfo": {
     "elapsed": 477,
     "status": "ok",
     "timestamp": 1724354416060,
     "user": {
      "displayName": "Umbert Lewis De La Cruz Rodriguez",
      "userId": "06308596113481217675"
     },
     "user_tz": 300
    },
    "id": "VAoC5eGC8dQe",
    "outputId": "b8ce32e3-e7f4-47cf-b7b1-1e9c18edbeff"
   },
   "outputs": [],
   "source": [
    "y.head()"
   ]
  },
  {
   "cell_type": "markdown",
   "metadata": {
    "id": "9wVTuE2y8dQj"
   },
   "source": [
    "### División de entrenamiento-prueba"
   ]
  },
  {
   "cell_type": "markdown",
   "metadata": {
    "id": "nF5m3GgE8dQl"
   },
   "source": [
    "**Importamos la función train_test_split de scikit-learn**"
   ]
  },
  {
   "cell_type": "code",
   "execution_count": null,
   "metadata": {
    "executionInfo": {
     "elapsed": 898,
     "status": "ok",
     "timestamp": 1724354444718,
     "user": {
      "displayName": "Umbert Lewis De La Cruz Rodriguez",
      "userId": "06308596113481217675"
     },
     "user_tz": 300
    },
    "id": "cN7Yks7Y8dQm"
   },
   "outputs": [],
   "source": [
    "from sklearn.model_selection import train_test_split"
   ]
  },
  {
   "cell_type": "markdown",
   "metadata": {
    "id": "bLAMlnDL8dQs"
   },
   "source": [
    "**Creamos los conjuntos de entrenamiento X y de prueba y en un comando usando una proporción de división y una semilla aleatoria**"
   ]
  },
  {
   "cell_type": "code",
   "execution_count": null,
   "metadata": {
    "executionInfo": {
     "elapsed": 351,
     "status": "ok",
     "timestamp": 1724354472286,
     "user": {
      "displayName": "Umbert Lewis De La Cruz Rodriguez",
      "userId": "06308596113481217675"
     },
     "user_tz": 300
    },
    "id": "w5mOxg0m8dQs"
   },
   "outputs": [],
   "source": [
    "X_train, X_test, y_train, y_test = train_test_split(X, y, test_size=0.3, random_state=123)"
   ]
  },
  {
   "cell_type": "markdown",
   "metadata": {
    "id": "jSEXt0o78dQx"
   },
   "source": [
    "**Verifique el tamaño y la forma de las divisiones de entrenamiento/prueba (debe estar en la proporción según el parámetro test_size anterior)**"
   ]
  },
  {
   "cell_type": "code",
   "execution_count": null,
   "metadata": {
    "colab": {
     "base_uri": "https://localhost:8080/"
    },
    "executionInfo": {
     "elapsed": 352,
     "status": "ok",
     "timestamp": 1724354483757,
     "user": {
      "displayName": "Umbert Lewis De La Cruz Rodriguez",
      "userId": "06308596113481217675"
     },
     "user_tz": 300
    },
    "id": "yN3YcP0R8dQy",
    "outputId": "65403c2a-7be3-47d1-a522-e41be655186f"
   },
   "outputs": [],
   "source": [
    "print(\"Tamaño del conjunto de características del entrenamiento:\",X_train.shape)\n",
    "print(\"Tamaño del conjunto de características de prueba:\",X_test.shape)\n",
    "print(\"Tamaño de la variable objetivo del entrenamiento:\",y_train.shape)\n",
    "print(\"Tamaño de la variable objetivo de prueba:\",y_test.shape)"
   ]
  },
  {
   "cell_type": "markdown",
   "metadata": {
    "id": "-MsrXA0W8dQ2"
   },
   "source": [
    "### Ajuste y entrenamiento del modelo"
   ]
  },
  {
   "cell_type": "markdown",
   "metadata": {
    "id": "DLgLMwG08dQ3"
   },
   "source": [
    "**Importamos el estimador de modelo de regresión lineal de scikit-learn e lo instanciamos**"
   ]
  },
  {
   "cell_type": "code",
   "execution_count": null,
   "metadata": {
    "executionInfo": {
     "elapsed": 363,
     "status": "ok",
     "timestamp": 1724354502477,
     "user": {
      "displayName": "Umbert Lewis De La Cruz Rodriguez",
      "userId": "06308596113481217675"
     },
     "user_tz": 300
    },
    "id": "tpGeTBf_8dQ4"
   },
   "outputs": [],
   "source": [
    "from sklearn.linear_model import LinearRegression\n",
    "from sklearn import metrics"
   ]
  },
  {
   "cell_type": "code",
   "execution_count": null,
   "metadata": {
    "executionInfo": {
     "elapsed": 367,
     "status": "ok",
     "timestamp": 1724354507515,
     "user": {
      "displayName": "Umbert Lewis De La Cruz Rodriguez",
      "userId": "06308596113481217675"
     },
     "user_tz": 300
    },
    "id": "hZfngfFB8dQ9"
   },
   "outputs": [],
   "source": [
    "lm = LinearRegression() # Creando un objeto de Regresión Lineal 'lm'"
   ]
  },
  {
   "cell_type": "markdown",
   "metadata": {
    "id": "Ygxbnlcy8dRH"
   },
   "source": [
    "**Ajustamos el modelo al propio objeto instanciado**"
   ]
  },
  {
   "cell_type": "code",
   "execution_count": null,
   "metadata": {
    "colab": {
     "base_uri": "https://localhost:8080/",
     "height": 75
    },
    "executionInfo": {
     "elapsed": 338,
     "status": "ok",
     "timestamp": 1724354538319,
     "user": {
      "displayName": "Umbert Lewis De La Cruz Rodriguez",
      "userId": "06308596113481217675"
     },
     "user_tz": 300
    },
    "id": "WGaCzKsF8dRH",
    "outputId": "3fe4b7f4-8a85-4866-f330-f60b55c7df91"
   },
   "outputs": [],
   "source": [
    "lm.fit(X_train,y_train) # Ajuste el modelo lineal en el objeto 'lm' en sí, es decir, no es necesario establecer esto en otra variable"
   ]
  },
  {
   "cell_type": "markdown",
   "metadata": {
    "id": "Ga8h0p2Q8dRO"
   },
   "source": [
    "**Verificamos la intercepción y los coeficientes y los colocamos en un DataFrame**"
   ]
  },
  {
   "cell_type": "code",
   "execution_count": null,
   "metadata": {
    "colab": {
     "base_uri": "https://localhost:8080/"
    },
    "executionInfo": {
     "elapsed": 355,
     "status": "ok",
     "timestamp": 1724354552281,
     "user": {
      "displayName": "Umbert Lewis De La Cruz Rodriguez",
      "userId": "06308596113481217675"
     },
     "user_tz": 300
    },
    "id": "zg0ilnG-8dRQ",
    "outputId": "7a6af8b4-3a6f-47ba-f29c-bb2f1c36d5f9"
   },
   "outputs": [],
   "source": [
    "print(\"El término de intersección del modelo lineal:\", lm.intercept_)"
   ]
  },
  {
   "cell_type": "code",
   "execution_count": null,
   "metadata": {
    "colab": {
     "base_uri": "https://localhost:8080/"
    },
    "executionInfo": {
     "elapsed": 446,
     "status": "ok",
     "timestamp": 1724354610984,
     "user": {
      "displayName": "Umbert Lewis De La Cruz Rodriguez",
      "userId": "06308596113481217675"
     },
     "user_tz": 300
    },
    "id": "v-tlXquf8dRU",
    "outputId": "05070e59-79b6-460e-9d3b-4b0e48b85e55"
   },
   "outputs": [],
   "source": [
    "print(\"Los coeficientes del modelo lineal:\", lm.coef_)"
   ]
  },
  {
   "cell_type": "code",
   "execution_count": null,
   "metadata": {
    "colab": {
     "base_uri": "https://localhost:8080/",
     "height": 206
    },
    "executionInfo": {
     "elapsed": 12,
     "status": "ok",
     "timestamp": 1724354614334,
     "user": {
      "displayName": "Umbert Lewis De La Cruz Rodriguez",
      "userId": "06308596113481217675"
     },
     "user_tz": 300
    },
    "id": "h22W891s8dRY",
    "outputId": "b4907dac-620e-4cb5-fb7a-6b0ceab0791e"
   },
   "outputs": [],
   "source": [
    "#idict = {'Coefficients':lm.intercept_}\n",
    "#idf = pd.DataFrame(data=idict,index=['Intercept'])\n",
    "cdf = pd.DataFrame(data=lm.coef_, index=X_train.columns, columns=[\"Coefficients\"])\n",
    "#cdf=pd.concat([idf,cdf], axis=0)\n",
    "cdf"
   ]
  },
  {
   "cell_type": "markdown",
   "metadata": {
    "id": "RVOa3Gz58dRc"
   },
   "source": [
    "### Cálculo de errores estándar y estadística t para los coeficientes"
   ]
  },
  {
   "cell_type": "code",
   "execution_count": null,
   "metadata": {
    "id": "Lp1CjrVi8dRd"
   },
   "outputs": [],
   "source": [
    "n=X_train.shape[0]\n",
    "k=X_train.shape[1]\n",
    "dfN = n-k\n",
    "train_pred=lm.predict(X_train)\n",
    "train_error = np.square(train_pred - y_train)\n",
    "sum_error=np.sum(train_error)\n",
    "se=[0,0,0,0,0]\n",
    "for i in range(k):\n",
    "    r = (sum_error/dfN)\n",
    "    r = r/np.sum(np.square(X_train[list(X_train.columns)[i]]-X_train[list(X_train.columns)[i]].mean()))\n",
    "    se[i]=np.sqrt(r)\n",
    "cdf['Standard Error']=se\n",
    "cdf['t-statistic']=cdf['Coefficients']/cdf['Standard Error']\n",
    "cdf"
   ]
  },
  {
   "cell_type": "code",
   "execution_count": null,
   "metadata": {
    "id": "5aj1O87O8dRh"
   },
   "outputs": [],
   "source": [
    "print(\"Por lo tanto, las características organizadas en orden de importancia para predecir el precio de la vivienda\\n\",'-'*90,sep='')\n",
    "l=list(cdf.sort_values('t-statistic',ascending=False).index)\n",
    "print(' > \\n'.join(l))"
   ]
  },
  {
   "cell_type": "code",
   "execution_count": null,
   "metadata": {
    "id": "2KaWRKZF8dRo"
   },
   "outputs": [],
   "source": [
    "l=list(cdf.index)\n",
    "from matplotlib import gridspec\n",
    "fig = plt.figure(figsize=(18, 10))\n",
    "gs = gridspec.GridSpec(2,3)\n",
    "#f, ax = plt.subplots(nrows=1,ncols=len(l), sharey=True)\n",
    "ax0 = plt.subplot(gs[0])\n",
    "ax0.scatter(df[l[0]],df['Price'])\n",
    "ax0.set_title(l[0]+\" vs. Price\", fontdict={'fontsize':20})\n",
    "\n",
    "ax1 = plt.subplot(gs[1])\n",
    "ax1.scatter(df[l[1]],df['Price'])\n",
    "ax1.set_title(l[1]+\" vs. Price\",fontdict={'fontsize':20})\n",
    "\n",
    "ax2 = plt.subplot(gs[2])\n",
    "ax2.scatter(df[l[2]],df['Price'])\n",
    "ax2.set_title(l[2]+\" vs. Price\",fontdict={'fontsize':20})\n",
    "\n",
    "ax3 = plt.subplot(gs[3])\n",
    "ax3.scatter(df[l[3]],df['Price'])\n",
    "ax3.set_title(l[3]+\" vs. Price\",fontdict={'fontsize':20})\n",
    "\n",
    "ax4 = plt.subplot(gs[4])\n",
    "ax4.scatter(df[l[4]],df['Price'])\n",
    "ax4.set_title(l[4]+\" vs. Price\",fontdict={'fontsize':20})"
   ]
  },
  {
   "cell_type": "markdown",
   "metadata": {
    "id": "B7WcZVfe8dRs"
   },
   "source": [
    "**R cuadrado del ajuste del modelo**"
   ]
  },
  {
   "cell_type": "code",
   "execution_count": null,
   "metadata": {
    "id": "NSusgPoO8dRs"
   },
   "outputs": [],
   "source": [
    "print(\"Valor del R cuadrado de este ajuste:\",round(metrics.r2_score(y_train,train_pred),3))"
   ]
  },
  {
   "cell_type": "markdown",
   "metadata": {
    "id": "HGsEFMBI8dRw"
   },
   "source": [
    "### Matrices de evaluación de predicción, estimación de error y regresión"
   ]
  },
  {
   "cell_type": "markdown",
   "metadata": {
    "id": "FWGuTuuQ8dRx"
   },
   "source": [
    "**Predicción usando el modelo lm**"
   ]
  },
  {
   "cell_type": "code",
   "execution_count": null,
   "metadata": {
    "id": "Kt_bkNtw8dRy"
   },
   "outputs": [],
   "source": [
    "predictions = lm.predict(X_test)\n",
    "print (\"Tipo del objeto predicho :\", type(predictions))\n",
    "print (\"Tamaño del objeto predicho:\", predictions.shape)"
   ]
  },
  {
   "cell_type": "markdown",
   "metadata": {
    "id": "hirP2Okp8dR2"
   },
   "source": [
    "**Diagrama de dispersión (Scatterplot) del precio previsto y el conjunto de prueba y para ver si los datos caen en una línea recta de 45 grados**"
   ]
  },
  {
   "cell_type": "code",
   "execution_count": null,
   "metadata": {
    "id": "_2daQX_A8dR3",
    "scrolled": false
   },
   "outputs": [],
   "source": [
    "plt.figure(figsize=(10,7))\n",
    "plt.title(\"Precio de casas real vs. el predicho\",fontsize=25)\n",
    "plt.xlabel(\"Conjunto real de precios de casas\",fontsize=18)\n",
    "plt.ylabel(\"Precios predichos de casas\", fontsize=18)\n",
    "plt.scatter(x=y_test,y=predictions)"
   ]
  },
  {
   "cell_type": "markdown",
   "metadata": {
    "id": "sTAO9NjR8dR9"
   },
   "source": [
    "**Visualizamos el histograma de los residuos, es decir, errores predichos (se espera un patrón distribuido normalmente)**"
   ]
  },
  {
   "cell_type": "code",
   "execution_count": null,
   "metadata": {
    "id": "OIIUIMxE8dR-"
   },
   "outputs": [],
   "source": [
    "plt.figure(figsize=(10,7))\n",
    "plt.title(\"Histograma de residuos para verificar la normalidad \",fontsize=25)\n",
    "plt.xlabel(\"Residuos\",fontsize=18)\n",
    "plt.ylabel(\"Densidad del kernel\", fontsize=18)\n",
    "sns.distplot([y_test-predictions])"
   ]
  },
  {
   "cell_type": "markdown",
   "metadata": {
    "id": "Km2Kok0D8dSC"
   },
   "source": [
    "**Diagrama de dispersión de residuos y valores predichos (Homoscedasticidad)**\n"
   ]
  },
  {
   "cell_type": "code",
   "execution_count": null,
   "metadata": {
    "id": "7zQHTOIF8dSD"
   },
   "outputs": [],
   "source": [
    "plt.figure(figsize=(10,7))\n",
    "plt.title(\"Valores residuales vs. predichos\\n\",fontsize=25)\n",
    "plt.xlabel(\"Precios predichos de casas\",fontsize=18)\n",
    "plt.ylabel(\"Residuos\", fontsize=18)\n",
    "plt.scatter(x=predictions,y=y_test-predictions)"
   ]
  },
  {
   "cell_type": "markdown",
   "metadata": {
    "id": "GASQCUqb8dSG"
   },
   "source": [
    "**Métricas de evaluación de la regresión**"
   ]
  },
  {
   "cell_type": "code",
   "execution_count": null,
   "metadata": {
    "id": "MbfUu0Wu8dSH"
   },
   "outputs": [],
   "source": [
    "print(\"Mean absolute error (MAE):\", metrics.mean_absolute_error(y_test,predictions))\n",
    "print(\"Mean square error (MSE):\", metrics.mean_squared_error(y_test,predictions))\n",
    "print(\"Root mean square error (RMSE):\", np.sqrt(metrics.mean_squared_error(y_test,predictions)))"
   ]
  },
  {
   "cell_type": "markdown",
   "metadata": {
    "id": "Hi-mRG0s8dSO"
   },
   "source": [
    "**Valor R cuadrado**"
   ]
  },
  {
   "cell_type": "code",
   "execution_count": null,
   "metadata": {
    "id": "SRWfenPn8dSP"
   },
   "outputs": [],
   "source": [
    "print(\"Valor R-squared de las predicciones:\",round(metrics.r2_score(y_test,predictions),3))"
   ]
  }
 ],
 "metadata": {
  "colab": {
   "provenance": []
  },
  "kernelspec": {
   "display_name": "Python 3",
   "language": "python",
   "name": "python3"
  },
  "language_info": {
   "codemirror_mode": {
    "name": "ipython",
    "version": 3
   },
   "file_extension": ".py",
   "mimetype": "text/x-python",
   "name": "python",
   "nbconvert_exporter": "python",
   "pygments_lexer": "ipython3",
   "version": "3.9.19"
  }
 },
 "nbformat": 4,
 "nbformat_minor": 0
}
